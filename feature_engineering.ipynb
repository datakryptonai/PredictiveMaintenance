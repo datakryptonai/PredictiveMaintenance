{
 "cells": [
  {
   "cell_type": "code",
   "execution_count": null,
   "metadata": {},
   "outputs": [],
   "source": [
    "# Feature Engineering Notebook\n",
    "\n",
    "from pyspark.sql.window import Window\n",
    "import pyspark.sql.functions as F\n",
    "\n",
    "df = spark.read.parquet("../data/processed/clean_sensor_data.parquet")\n",
    "\n",
    "window_spec = Window.partitionBy("machine_id").orderBy("timestamp").rowsBetween(-3, 0)\n",
    "\n",
    "df = df.withColumn("temp_mean_3h", F.avg("temperature").over(window_spec))\n",
    "df = df.withColumn("vib_max_3h", F.max("vibration").over(window_spec))\n",
    "\n",
    "df = df.na.fill(0, subset=["temp_mean_3h", "vib_max_3h"])\n",
    "\n",
    "df.write.mode("overwrite").parquet("../data/processed/features.parquet")"
   ]
  }
 ],
 "metadata": {},
 "nbformat": 4,
 "nbformat_minor": 5
}
