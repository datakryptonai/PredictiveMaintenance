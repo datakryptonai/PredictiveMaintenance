{
 "cells": [
  {
   "cell_type": "code",
   "execution_count": null,
   "metadata": {},
   "outputs": [],
   "source": [
    "# Data Engineering Notebook\n",
    "import pyspark.sql.functions as F\n",
    "from pyspark.sql import SparkSession\n",
    "\n",
    "spark = SparkSession.builder.appName("DataEngineering").getOrCreate()\n",
    "\n",
    "# Load raw sensor data\n",
    "sensor_df = spark.read.csv("../data/raw/sensor_data.csv", header=True, inferSchema=True)\n",
    "\n",
    "# Data validation: remove rows with nulls in critical columns\n",
    "sensor_df = sensor_df.dropna(subset=["machine_id", "timestamp"])\n",
    "\n",
    "# Filter out invalid sensor readings\n",
    "sensor_df = sensor_df.filter(sensor_df.temperature > -40)\n",
    "\n",
    "# Save cleaned data\n",
    "sensor_df.write.mode("overwrite").parquet("../data/processed/clean_sensor_data.parquet")"
   ]
  }
 ],
 "metadata": {},
 "nbformat": 4,
 "nbformat_minor": 5
}
